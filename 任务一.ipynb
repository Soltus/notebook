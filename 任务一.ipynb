{
 "cells": [
  {
   "cell_type": "code",
   "execution_count": 45,
   "metadata": {},
   "outputs": [
    {
     "name": "stdout",
     "output_type": "stream",
     "text": [
      "Application directory:   G:\\BDC\\conda\\lab\\share\\jupyter\\lab\n",
      "User Settings directory: C:\\Users\\Administrator\\.jupyter\\lab\\user-settings\n",
      "Workspaces directory: C:\\Users\\Administrator\\.jupyter\\lab\\workspaces\n"
     ]
    }
   ],
   "source": [
    "!jupyter lab paths"
   ]
  },
  {
   "cell_type": "code",
   "execution_count": null,
   "metadata": {},
   "outputs": [],
   "source": [
    "!pip list"
   ]
  },
  {
   "cell_type": "markdown",
   "metadata": {},
   "source": [
    "# 任务一：数据探索与预处理（全做）"
   ]
  },
  {
   "cell_type": "code",
   "execution_count": 46,
   "metadata": {},
   "outputs": [],
   "source": [
    "import pandas as pd\n",
    "\n",
    "# 显示所有列\n",
    "pd.set_option('display.max_columns', None)\n",
    "# 显示所有行\n",
    "# pd.set_option('display.max_rows', None)\n",
    "# 设置value的显示长度\n",
    "pd.set_option('max_colwidth', 100)\n",
    "# 设置1000列时才换行\n",
    "pd.set_option('display.width', 1000)\n"
   ]
  },
  {
   "cell_type": "code",
   "execution_count": 47,
   "metadata": {},
   "outputs": [
    {
     "name": "stdout",
     "output_type": "stream",
     "text": [
      "c:\\Users\\Administrator\\WPSDrive\\205034987\\WPS云盘\\07 绛亽新学习\\01 电子商务\\05 20级大四上学期\\商务智能实验\\notebook\\data\n"
     ]
    }
   ],
   "source": [
    "import os,sys\n",
    "SRC_DIR = os.path.join(os.path.abspath('.'), 'data')\n",
    "print(SRC_DIR)"
   ]
  },
  {
   "cell_type": "markdown",
   "metadata": {},
   "source": [
    "## （1）查看所有数据文件，了解每个数据文件的数据项及记录数"
   ]
  },
  {
   "cell_type": "markdown",
   "metadata": {},
   "source": [
    "首先使用 print() 函数大致浏览每个数据文件的 shape （行列数）和列名"
   ]
  },
  {
   "cell_type": "code",
   "execution_count": 48,
   "metadata": {},
   "outputs": [
    {
     "name": "stdout",
     "output_type": "stream",
     "text": [
      "******************************************************************************************************************************************************\n",
      "\t文件: calendar_detail.csv  —— Shape: (10384980, 7)\n",
      "\t列名: listing_id, date, available, price, adjusted_price\\\n",
      "minimum_nights, maximum_nights\n",
      "******************************************************************************************************************************************************\n",
      "\t文件: listings.csv  —— Shape: (28452, 16)\n",
      "\t列名: id, name, host_id, host_name, neighbourhood_group\\\n",
      "neighbourhood, latitude, longitude, room_type, price\\\n",
      "minimum_nights, number_of_reviews, last_review, reviews_per_month, calculated_host_listings_count\\\n",
      "availability_365\n",
      "******************************************************************************************************************************************************\n"
     ]
    },
    {
     "name": "stderr",
     "output_type": "stream",
     "text": [
      "C:\\Windows\\Temp\\ipykernel_6820\\3819509521.py:14: DtypeWarning: Columns (43,61,62,95) have mixed types. Specify dtype option on import or set low_memory=False.\n",
      "  df = pd.read_csv(os.path.join(SRC_DIR, f), encoding='utf-8', low_memory=True)\n"
     ]
    },
    {
     "name": "stdout",
     "output_type": "stream",
     "text": [
      "\t文件: listings_detail.csv  —— Shape: (28452, 106)\n",
      "\t列名: id, listing_url, scrape_id, last_scraped, name\\\n",
      "summary, space, description, experiences_offered, neighborhood_overview\\\n",
      "notes, transit, access, interaction, house_rules\\\n",
      "thumbnail_url, medium_url, picture_url, xl_picture_url, host_id\\\n",
      "host_url, host_name, host_since, host_location, host_about\\\n",
      "host_response_time, host_response_rate, host_acceptance_rate, host_is_superhost, host_thumbnail_url\\\n",
      "host_picture_url, host_neighbourhood, host_listings_count, host_total_listings_count, host_verifications\\\n",
      "host_has_profile_pic, host_identity_verified, street, neighbourhood, neighbourhood_cleansed\\\n",
      "neighbourhood_group_cleansed, city, state, zipcode, market\\\n",
      "smart_location, country_code, country, latitude, longitude\\\n",
      "is_location_exact, property_type, room_type, accommodates, bathrooms\\\n",
      "bedrooms, beds, bed_type, amenities, square_feet\\\n",
      "price, weekly_price, monthly_price, security_deposit, cleaning_fee\\\n",
      "guests_included, extra_people, minimum_nights, maximum_nights, minimum_minimum_nights\\\n",
      "maximum_minimum_nights, minimum_maximum_nights, maximum_maximum_nights, minimum_nights_avg_ntm, maximum_nights_avg_ntm\\\n",
      "calendar_updated, has_availability, availability_30, availability_60, availability_90\\\n",
      "availability_365, calendar_last_scraped, number_of_reviews, number_of_reviews_ltm, first_review\\\n",
      "last_review, review_scores_rating, review_scores_accuracy, review_scores_cleanliness, review_scores_checkin\\\n",
      "review_scores_communication, review_scores_location, review_scores_value, requires_license, license\\\n",
      "jurisdiction_names, instant_bookable, is_business_travel_ready, cancellation_policy, require_guest_profile_picture\\\n",
      "require_guest_phone_verification, calculated_host_listings_count, calculated_host_listings_count_entire_homes, calculated_host_listings_count_private_rooms, calculated_host_listings_count_shared_rooms\\\n",
      "reviews_per_month\n",
      "******************************************************************************************************************************************************\n",
      "\t文件: neighbourhoods.csv  —— Shape: (16, 2)\n",
      "\t列名: neighbourhood_group, neighbourhood\n",
      "******************************************************************************************************************************************************\n",
      "\t文件: reviews.csv  —— Shape: (202099, 2)\n",
      "\t列名: listing_id, date\n",
      "******************************************************************************************************************************************************\n",
      "\t文件: reviews_detail.csv  —— Shape: (202099, 6)\n",
      "\t列名: listing_id, id, date, reviewer_id, reviewer_name\\\n",
      "comments\n",
      "____________________________________________________________________  Good job !  ____________________________________________________________________\n"
     ]
    }
   ],
   "source": [
    "# 保存文件的shape值的字典，后续调用\n",
    "shapes_dict = {}\n",
    "# 数据文件路径列表，后续调用\n",
    "DATA_FILES = []\n",
    "\n",
    "# 使用 os.listdir 列出目录中的文件\n",
    "for f in os.listdir(SRC_DIR):\n",
    "        # 检查文件扩展名和名称，任意不以 _ 开头的 csv 文件都是这次实验的数据文件\n",
    "        if os.path.splitext(os.path.basename(f))[1] == \".csv\" and os.path.basename(f)[0] != \"_\":\n",
    "            # 打印分隔线\n",
    "            print(\"*\" * 150)\n",
    "            DATA_FILES.append(f)\n",
    "            # 使用 pandas 读取 csv 文件，使用 utf-8 编码，并设置 low_memory=True 以优化内存使用\n",
    "            df = pd.read_csv(os.path.join(SRC_DIR, f), encoding='utf-8', low_memory=True)\n",
    "            # 保存文件的shape值\n",
    "            shapes_dict[os.path.basename(f)] = df.shape\n",
    "            # 打印文件信息\n",
    "            print('\\t文件:', str(f), ' —— Shape:', df.shape)\n",
    "            column_list = df.columns.tolist()\n",
    "            # 使用map()函数和一个lambda函数，将column_list中的每个子列表（每个子列表包含5个列名）中的列名连接在一起，用逗号和空格分隔\n",
    "            column_str = '\\\\\\n'.join(map(lambda x: ', '.join(x), (column_list[i:i+5] for i in range(0, len(column_list), 5))))\n",
    "            print('\\t列名: ' + column_str)\n",
    "\n",
    "print(\"_\"*68, \" Good job ! \", \"_\"*68)"
   ]
  },
  {
   "cell_type": "markdown",
   "metadata": {},
   "source": [
    "使用图表直观查看每个文件的行列数"
   ]
  },
  {
   "cell_type": "code",
   "execution_count": 49,
   "metadata": {},
   "outputs": [
    {
     "data": {
      "image/png": "[encoded data removed]",
      "text/plain": [
       "<Figure size 1800x800 with 2 Axes>"
      ]
     },
     "metadata": {},
     "output_type": "display_data"
    }
   ],
   "source": [
    "import matplotlib.pyplot as plt\n",
    "\n",
    "# 数据整理\n",
    "row_data = [value[0] for key, value in shapes_dict.items()]\n",
    "col_data = [value[1] for key, value in shapes_dict.items()]\n",
    "\n",
    "# 创建一个2x1的图形网格，可以并排显示两个图表\n",
    "fig, axs = plt.subplots(1, 2)\n",
    "\n",
    "# 行数据柱状图\n",
    "axs[0].bar(range(len(row_data)), row_data)\n",
    "axs[0].set_xticks(range(len(row_data)))\n",
    "axs[0].set_xticklabels([key for key, value in shapes_dict.items()], rotation=-60)\n",
    "axs[0].set_ylabel('Rows')\n",
    "axs[0].set_title('Number of Rows in Each File')\n",
    "\n",
    "# 列数据柱状图\n",
    "axs[1].bar(range(len(col_data)), col_data)\n",
    "axs[1].set_xticks(range(len(col_data)))\n",
    "axs[1].set_xticklabels([key for key, value in shapes_dict.items()], rotation=-60)\n",
    "axs[1].set_ylabel('Columns')\n",
    "axs[1].set_title('Number of Columns in Each File')\n",
    "\n",
    "# 修改y轴刻度标签的格式为科学计数法，并指定小数点后保留几位\n",
    "axs[0].ticklabel_format(axis='y', scilimits=(0,100))  # 对于行数据柱状图\n",
    "axs[1].ticklabel_format(axis='y', scilimits=(0,100))  # 对于列数据柱状图\n",
    "\n",
    "# 显示图形\n",
    "fig.set_size_inches(18, 8)\n",
    "plt.show()"
   ]
  },
  {
   "cell_type": "markdown",
   "metadata": {},
   "source": [
    "为了方便下面处理后导出文件，采用命名处理+函数封装"
   ]
  },
  {
   "cell_type": "code",
   "execution_count": 124,
   "metadata": {},
   "outputs": [
    {
     "name": "stdout",
     "output_type": "stream",
     "text": [
      "ok\n"
     ]
    }
   ],
   "source": [
    "DATAS = {}\n",
    "\n",
    "def reload_DATAS():\n",
    "  import pandas as pd\n",
    "  for f in DATA_FILES:\n",
    "    name = f.split('.')[0]\n",
    "    DATAS[name] = pd.read_csv(os.path.join(SRC_DIR, f), low_memory=False)\n",
    "  print('ok')\n",
    "\n",
    "reload_DATAS()"
   ]
  },
  {
   "cell_type": "markdown",
   "metadata": {},
   "source": [
    "## （2）去除每个数据文件中的重复记录"
   ]
  },
  {
   "cell_type": "markdown",
   "metadata": {},
   "source": [
    "首先查看每个数据文件中的重复记录情况"
   ]
  },
  {
   "cell_type": "code",
   "execution_count": 112,
   "metadata": {},
   "outputs": [
    {
     "name": "stdout",
     "output_type": "stream",
     "text": [
      "****************************************************************************************************************************************************** \n",
      "calendar_detail.csv :\n",
      " Empty DataFrame\n",
      "Columns: [listing_id, date, available, price, adjusted_price, minimum_nights, maximum_nights]\n",
      "Index: []\n",
      "****************************************************************************************************************************************************** \n",
      "listings.csv :\n",
      " Empty DataFrame\n",
      "Columns: [id, name, host_id, host_name, neighbourhood_group, neighbourhood, latitude, longitude, room_type, price, minimum_nights, number_of_reviews, last_review, reviews_per_month, calculated_host_listings_count, availability_365]\n",
      "Index: []\n",
      "****************************************************************************************************************************************************** \n",
      "listings_detail.csv :\n",
      " Empty DataFrame\n",
      "Columns: [id, listing_url, scrape_id, last_scraped, name, summary, space, description, experiences_offered, neighborhood_overview, notes, transit, access, interaction, house_rules, thumbnail_url, medium_url, picture_url, xl_picture_url, host_id, host_url, host_name, host_since, host_location, host_about, host_response_time, host_response_rate, host_acceptance_rate, host_is_superhost, host_thumbnail_url, host_picture_url, host_neighbourhood, host_listings_count, host_total_listings_count, host_verifications, host_has_profile_pic, host_identity_verified, street, neighbourhood, neighbourhood_cleansed, neighbourhood_group_cleansed, city, state, zipcode, market, smart_location, country_code, country, latitude, longitude, is_location_exact, property_type, room_type, accommodates, bathrooms, bedrooms, beds, bed_type, amenities, square_feet, price, weekly_price, monthly_price, security_deposit, cleaning_fee, guests_included, extra_people, minimum_nights, maximum_nights, minimum_minimum_nights, maximum_minimum_nights, minimum_maximum_nights, maximum_maximum_nights, minimum_nights_avg_ntm, maximum_nights_avg_ntm, calendar_updated, has_availability, availability_30, availability_60, availability_90, availability_365, calendar_last_scraped, number_of_reviews, number_of_reviews_ltm, first_review, last_review, review_scores_rating, review_scores_accuracy, review_scores_cleanliness, review_scores_checkin, review_scores_communication, review_scores_location, review_scores_value, requires_license, license, jurisdiction_names, instant_bookable, is_business_travel_ready, cancellation_policy, require_guest_profile_picture, ...]\n",
      "Index: []\n",
      "****************************************************************************************************************************************************** \n",
      "neighbourhoods.csv :\n",
      " Empty DataFrame\n",
      "Columns: [neighbourhood_group, neighbourhood]\n",
      "Index: []\n",
      "****************************************************************************************************************************************************** \n",
      "reviews.csv :\n",
      "         listing_id        date\n",
      "51           44054  2017-07-07\n",
      "1620       1115437  2016-08-15\n",
      "2680       1900447  2017-08-05\n",
      "2681       1900447  2017-08-05\n",
      "3157       2717860  2017-01-22\n",
      "...            ...         ...\n",
      "199929    33022244  2019-04-11\n",
      "199931    33022244  2019-04-14\n",
      "199933    33022244  2019-04-15\n",
      "200994    33270719  2019-03-30\n",
      "202020    33756022  2019-04-17\n",
      "\n",
      "[363 rows x 2 columns]\n",
      "****************************************************************************************************************************************************** \n",
      "reviews_detail.csv :\n",
      " Empty DataFrame\n",
      "Columns: [listing_id, id, date, reviewer_id, reviewer_name, comments]\n",
      "Index: []\n"
     ]
    }
   ],
   "source": [
    "for name, df in DATAS.items():\n",
    "  print('*'*150, f'\\n{name}.csv :\\n', df[df.duplicated()])"
   ]
  },
  {
   "cell_type": "markdown",
   "metadata": {},
   "source": [
    "可以看出只有 reviews_detail.csv 有重复记录，下面对它进行处理"
   ]
  },
  {
   "cell_type": "code",
   "execution_count": 125,
   "metadata": {},
   "outputs": [
    {
     "name": "stdout",
     "output_type": "stream",
     "text": [
      "Empty DataFrame\n",
      "Columns: [listing_id, date]\n",
      "Index: []\n"
     ]
    }
   ],
   "source": [
    "DATAS['reviews'].drop_duplicates(inplace = True)  # 去重\n",
    "print(DATAS['reviews'][DATAS['reviews'].duplicated()])"
   ]
  },
  {
   "cell_type": "markdown",
   "metadata": {},
   "source": [
    "## （3）对每个数据文件中的缺失值、异常值进行处理"
   ]
  },
  {
   "cell_type": "markdown",
   "metadata": {},
   "source": [
    "查看每个数据文件的缺失值"
   ]
  },
  {
   "cell_type": "code",
   "execution_count": 126,
   "metadata": {},
   "outputs": [
    {
     "name": "stdout",
     "output_type": "stream",
     "text": [
      "****************************************************************************************************************************************************** \n",
      "calendar_detail.csv\n",
      "listing_id          0\n",
      "date                0\n",
      "available           0\n",
      "price               0\n",
      "adjusted_price      0\n",
      "minimum_nights    358\n",
      "maximum_nights    358\n",
      "dtype: int64\n",
      "****************************************************************************************************************************************************** \n",
      "listings.csv\n",
      "id                                    0\n",
      "name                                  1\n",
      "host_id                               0\n",
      "host_name                             0\n",
      "neighbourhood_group               28452\n",
      "neighbourhood                         0\n",
      "latitude                              0\n",
      "longitude                             0\n",
      "room_type                             0\n",
      "price                                 0\n",
      "minimum_nights                        0\n",
      "number_of_reviews                     0\n",
      "last_review                       11158\n",
      "reviews_per_month                 11158\n",
      "calculated_host_listings_count        0\n",
      "availability_365                      0\n",
      "dtype: int64\n",
      "****************************************************************************************************************************************************** \n",
      "listings_detail.csv\n",
      "id                                                  0\n",
      "listing_url                                         0\n",
      "scrape_id                                           0\n",
      "last_scraped                                        0\n",
      "name                                                1\n",
      "                                                ...  \n",
      "calculated_host_listings_count                      0\n",
      "calculated_host_listings_count_entire_homes         0\n",
      "calculated_host_listings_count_private_rooms        0\n",
      "calculated_host_listings_count_shared_rooms         0\n",
      "reviews_per_month                               11158\n",
      "Length: 106, dtype: int64\n",
      "****************************************************************************************************************************************************** \n",
      "neighbourhoods.csv\n",
      "neighbourhood_group    16\n",
      "neighbourhood           0\n",
      "dtype: int64\n",
      "****************************************************************************************************************************************************** \n",
      "reviews.csv\n",
      "listing_id    0\n",
      "date          0\n",
      "dtype: int64\n",
      "****************************************************************************************************************************************************** \n",
      "reviews_detail.csv\n",
      "listing_id         0\n",
      "id                 0\n",
      "date               0\n",
      "reviewer_id        0\n",
      "reviewer_name      6\n",
      "comments         117\n",
      "dtype: int64\n"
     ]
    }
   ],
   "source": [
    "for name, df in DATAS.items():\n",
    "  print('*'*150, f'\\n{name}.csv')\n",
    "  print(df.isnull().sum())  # 了解数据的缺失情况\n"
   ]
  },
  {
   "cell_type": "code",
   "execution_count": 127,
   "metadata": {},
   "outputs": [
    {
     "name": "stdout",
     "output_type": "stream",
     "text": [
      "\n",
      "calendar_detail.csv            Empty columns: \n",
      "\n",
      "listings.csv                   Empty columns: neighbourhood_group\n",
      "\n",
      "listings_detail.csv            Empty columns: thumbnail_url, medium_url, xl_picture_url, host_acceptance_rate, neighbourhood_group_cleansed\n",
      "\n",
      "neighbourhoods.csv             Empty columns: neighbourhood_group\n",
      "\n",
      "reviews.csv                    Empty columns: \n",
      "\n",
      "reviews_detail.csv             Empty columns: \n"
     ]
    }
   ],
   "source": [
    "for name, df in DATAS.items():\n",
    "  column_list = df.columns[df.isna().all()].tolist()\n",
    "  column_str = '\\\\\\n'.join(map(lambda x: ', '.join(x), (column_list[i:i+5] for i in range(0, len(column_list), 5))))\n",
    "  print(f'\\n{name}.csv', ' '*(25-min(len(name),20)), \"Empty columns:\", column_str) # 完全没有数据的列"
   ]
  },
  {
   "cell_type": "markdown",
   "metadata": {},
   "source": [
    "处理缺失值"
   ]
  },
  {
   "cell_type": "code",
   "execution_count": 128,
   "metadata": {},
   "outputs": [
    {
     "name": "stdout",
     "output_type": "stream",
     "text": [
      ">>> calendar_detail.csv\n",
      ">>> listings.csv\n",
      ">>> listings_detail.csv\n",
      "删除空列前列数： 106\n",
      "保留至少有 284 个非空的列\n",
      "删除空列后列数： 98\n",
      ">>> neighbourhoods.csv\n",
      ">>> reviews.csv\n",
      ">>> reviews_detail.csv\n"
     ]
    }
   ],
   "source": [
    "# calendar_detail.csv\n",
    "print('>>> calendar_detail.csv')\n",
    "DATAS['calendar_detail'][\"minimum_nights\"].fillna(1, inplace = True)  # 填充有空值行\n",
    "DATAS['calendar_detail'][\"maximum_nights\"].fillna(1, inplace = True)  # 填充有空值行\n",
    "\n",
    "# listings.csv\n",
    "print('>>> listings.csv')\n",
    "DATAS['listings'] = DATAS['listings'].drop('neighbourhood_group', axis=1) #删除空列\n",
    "\n",
    "# listings_detail.csv\n",
    "print('>>> listings_detail.csv')\n",
    "def remcolumns(data):\n",
    "    #删除所有行中缺失值超过99%的列\n",
    "    t = int(data.shape[0]*0.01)\n",
    "    print(f'保留至少有 {t} 个非空的列')\n",
    "    data = data.dropna(thresh=t,axis=1)\n",
    "    return data\n",
    "print('删除空列前列数：', len(DATAS['listings_detail'].columns))\n",
    "DATAS['listings_detail'] = remcolumns(DATAS['listings_detail']) # 缺失超过28000的列基本没用，删去它们\n",
    "print('删除空列后列数：', len(DATAS['listings_detail'].columns))\n",
    "DATAS['listings_detail'] = DATAS['listings_detail'][DATAS['listings_detail']['name'].isnull() == 0]  # 删除 price 为 0 的行\n",
    "\n",
    "# neighbourhoods.csv\n",
    "print('>>> neighbourhoods.csv')\n",
    "DATAS['neighbourhoods'] = DATAS['neighbourhoods'].drop('neighbourhood_group', axis=1) #删除空列\n",
    "\n",
    "# reviews.csv\n",
    "print('>>> reviews.csv')\n",
    "pass\n",
    "\n",
    "# reviews_detail.csv\n",
    "print('>>> reviews_detail.csv')\n",
    "DATAS['reviews_detail'] = DATAS['reviews_detail'].drop(DATAS['reviews_detail'][DATAS['reviews_detail']['comments'].isnull()].index) # comments（评论）列的空值对评论分析没用作用，删去它们"
   ]
  },
  {
   "cell_type": "markdown",
   "metadata": {},
   "source": [
    "再次运行代码检查效果"
   ]
  },
  {
   "cell_type": "code",
   "execution_count": 134,
   "metadata": {},
   "outputs": [
    {
     "name": "stdout",
     "output_type": "stream",
     "text": [
      "****************************************************************************************************************************************************** \n",
      "calendar_detail.csv\n",
      "listing_id        0\n",
      "date              0\n",
      "available         0\n",
      "price             0\n",
      "adjusted_price    0\n",
      "minimum_nights    0\n",
      "maximum_nights    0\n",
      "dtype: int64\n",
      "****************************************************************************************************************************************************** \n",
      "listings.csv\n",
      "id                                    0\n",
      "name                                  1\n",
      "host_id                               0\n",
      "host_name                             0\n",
      "neighbourhood                         0\n",
      "latitude                              0\n",
      "longitude                             0\n",
      "room_type                             0\n",
      "price                                 0\n",
      "minimum_nights                        0\n",
      "number_of_reviews                     0\n",
      "last_review                       11158\n",
      "reviews_per_month                 11158\n",
      "calculated_host_listings_count        0\n",
      "availability_365                      0\n",
      "dtype: int64\n",
      "****************************************************************************************************************************************************** \n",
      "listings_detail.csv\n",
      "id                                                  0\n",
      "listing_url                                         0\n",
      "scrape_id                                           0\n",
      "last_scraped                                        0\n",
      "name                                                0\n",
      "                                                ...  \n",
      "calculated_host_listings_count                      0\n",
      "calculated_host_listings_count_entire_homes         0\n",
      "calculated_host_listings_count_private_rooms        0\n",
      "calculated_host_listings_count_shared_rooms         0\n",
      "reviews_per_month                               11157\n",
      "Length: 98, dtype: int64\n",
      "****************************************************************************************************************************************************** \n",
      "neighbourhoods.csv\n",
      "neighbourhood    0\n",
      "dtype: int64\n",
      "****************************************************************************************************************************************************** \n",
      "reviews.csv\n",
      "listing_id    0\n",
      "date          0\n",
      "dtype: int64\n",
      "****************************************************************************************************************************************************** \n",
      "reviews_detail.csv\n",
      "listing_id       0\n",
      "id               0\n",
      "date             0\n",
      "reviewer_id      0\n",
      "reviewer_name    6\n",
      "comments         0\n",
      "dtype: int64\n",
      "\n",
      "\n",
      "calendar_detail.csv            Empty columns: \n",
      "\n",
      "listings.csv                   Empty columns: \n",
      "\n",
      "listings_detail.csv            Empty columns: \n",
      "\n",
      "neighbourhoods.csv             Empty columns: \n",
      "\n",
      "reviews.csv                    Empty columns: \n",
      "\n",
      "reviews_detail.csv             Empty columns: \n"
     ]
    }
   ],
   "source": [
    "for name, df in DATAS.items():\n",
    "  print('*'*150, f'\\n{name}.csv')\n",
    "  print(df.isnull().sum())  # 了解数据的缺失情况\n",
    "# 分两次循环展示，牺牲时间换取更好的显示效果\n",
    "print()\n",
    "for name, df in DATAS.items():\n",
    "  column_list = df.columns[df.isna().all()].tolist()\n",
    "  column_str = '\\\\\\n'.join(map(lambda x: ', '.join(x), (column_list[i:i+5] for i in range(0, len(column_list), 5))))\n",
    "  print(f'\\n{name}.csv', ' '*(25-min(len(name),20)), \"Empty columns:\", column_str) # 完全没有数据的列\n"
   ]
  },
  {
   "cell_type": "markdown",
   "metadata": {},
   "source": [
    "尝试洞察每个文件的异常值"
   ]
  },
  {
   "cell_type": "code",
   "execution_count": 140,
   "metadata": {},
   "outputs": [
    {
     "data": {
      "text/html": [
       "<div>\n",
       "<style scoped>\n",
       "    .dataframe tbody tr th:only-of-type {\n",
       "        vertical-align: middle;\n",
       "    }\n",
       "\n",
       "    .dataframe tbody tr th {\n",
       "        vertical-align: top;\n",
       "    }\n",
       "\n",
       "    .dataframe thead th {\n",
       "        text-align: right;\n",
       "    }\n",
       "</style>\n",
       "<table border=\"1\" class=\"dataframe\">\n",
       "  <thead>\n",
       "    <tr style=\"text-align: right;\">\n",
       "      <th></th>\n",
       "      <th>neighbourhood</th>\n",
       "    </tr>\n",
       "  </thead>\n",
       "  <tbody>\n",
       "    <tr>\n",
       "      <th>0</th>\n",
       "      <td>东城区</td>\n",
       "    </tr>\n",
       "    <tr>\n",
       "      <th>1</th>\n",
       "      <td>丰台区 / Fengtai</td>\n",
       "    </tr>\n",
       "    <tr>\n",
       "      <th>2</th>\n",
       "      <td>大兴区 / Daxing</td>\n",
       "    </tr>\n",
       "    <tr>\n",
       "      <th>3</th>\n",
       "      <td>密云县 / Miyun</td>\n",
       "    </tr>\n",
       "    <tr>\n",
       "      <th>4</th>\n",
       "      <td>平谷区 / Pinggu</td>\n",
       "    </tr>\n",
       "    <tr>\n",
       "      <th>5</th>\n",
       "      <td>延庆县 / Yanqing</td>\n",
       "    </tr>\n",
       "    <tr>\n",
       "      <th>6</th>\n",
       "      <td>怀柔区 / Huairou</td>\n",
       "    </tr>\n",
       "    <tr>\n",
       "      <th>7</th>\n",
       "      <td>房山区</td>\n",
       "    </tr>\n",
       "    <tr>\n",
       "      <th>8</th>\n",
       "      <td>昌平区</td>\n",
       "    </tr>\n",
       "    <tr>\n",
       "      <th>9</th>\n",
       "      <td>朝阳区 / Chaoyang</td>\n",
       "    </tr>\n",
       "    <tr>\n",
       "      <th>10</th>\n",
       "      <td>海淀区</td>\n",
       "    </tr>\n",
       "    <tr>\n",
       "      <th>11</th>\n",
       "      <td>石景山区</td>\n",
       "    </tr>\n",
       "    <tr>\n",
       "      <th>12</th>\n",
       "      <td>西城区</td>\n",
       "    </tr>\n",
       "    <tr>\n",
       "      <th>13</th>\n",
       "      <td>通州区 / Tongzhou</td>\n",
       "    </tr>\n",
       "    <tr>\n",
       "      <th>14</th>\n",
       "      <td>门头沟区 / Mentougou</td>\n",
       "    </tr>\n",
       "    <tr>\n",
       "      <th>15</th>\n",
       "      <td>顺义区 / Shunyi</td>\n",
       "    </tr>\n",
       "  </tbody>\n",
       "</table>\n",
       "</div>"
      ],
      "text/plain": [
       "       neighbourhood\n",
       "0                东城区\n",
       "1      丰台区 / Fengtai\n",
       "2       大兴区 / Daxing\n",
       "3        密云县 / Miyun\n",
       "4       平谷区 / Pinggu\n",
       "5      延庆县 / Yanqing\n",
       "6      怀柔区 / Huairou\n",
       "7                房山区\n",
       "8                昌平区\n",
       "9     朝阳区 / Chaoyang\n",
       "10               海淀区\n",
       "11              石景山区\n",
       "12               西城区\n",
       "13    通州区 / Tongzhou\n",
       "14  门头沟区 / Mentougou\n",
       "15      顺义区 / Shunyi"
      ]
     },
     "execution_count": 140,
     "metadata": {},
     "output_type": "execute_result"
    }
   ],
   "source": [
    "DATAS['neighbourhoods']"
   ]
  },
  {
   "cell_type": "code",
   "execution_count": 147,
   "metadata": {},
   "outputs": [
    {
     "name": "stdout",
     "output_type": "stream",
     "text": [
      "****************************************************************************************************************************************************** \n",
      "calendar_detail.csv\n",
      "              date available     price adjusted_price\n",
      "count     10384980  10384980  10384980       10384980\n",
      "unique         365         2      4493           4517\n",
      "top     2019-04-17         t   $398.00        $398.00\n",
      "freq         28452   6313432    180959         178916 \n",
      "\n",
      "          listing_id  minimum_nights  maximum_nights\n",
      "count  1.038498e+07    1.038498e+07    1.038498e+07\n",
      "mean   2.628583e+07    2.728729e+00    3.611174e+04\n",
      "std    6.403200e+06    1.754379e+01    5.928377e+06\n",
      "min    4.405400e+04    1.000000e+00    1.000000e+00\n",
      "25%    2.245616e+07    1.000000e+00    1.125000e+03\n",
      "50%    2.787765e+07    1.000000e+00    1.125000e+03\n",
      "75%    3.134482e+07    1.000000e+00    1.125000e+03\n",
      "max    3.395441e+07    1.125000e+03    1.000000e+09\n",
      "****************************************************************************************************************************************************** \n",
      "listings.csv\n",
      "                                                      name host_name   neighbourhood        room_type last_review\n",
      "count                                                28451     28452           28452            28452       17294\n",
      "unique                                               27594      6628              16                3         883\n",
      "top     距离首都机场T3航站楼3公里/新国展｡免费接送机早餐;2x2米舒适大床｡全时京味餐厅名厨料理,等你来        美婷  朝阳区 / Chaoyang  Entire home/apt  2019-04-07\n",
      "freq                                                    28       223           10810            16955        1067 \n",
      "\n",
      "                  id       host_id      latitude     longitude         price  minimum_nights  number_of_reviews  reviews_per_month  calculated_host_listings_count  availability_365\n",
      "count  2.845200e+04  2.845200e+04  28452.000000  28452.000000  28452.000000    28452.000000       28452.000000       17294.000000                    28452.000000      28452.000000\n",
      "mean   2.628583e+07  1.442821e+08     39.983225    116.442000    611.203325        2.729685           7.103156           1.319757                       12.818290        220.342120\n",
      "std    6.403312e+06  7.057051e+07      0.186984      0.204796   1623.535077       17.920932          16.815067           1.581243                       29.261321        138.430677\n",
      "min    4.405400e+04  1.928750e+05     39.455810    115.473390      0.000000        1.000000           0.000000           0.010000                        1.000000          0.000000\n",
      "25%    2.245616e+07  8.708958e+07     39.897330    116.355283    235.000000        1.000000           0.000000           0.290000                        2.000000         87.000000\n",
      "50%    2.787765e+07  1.525464e+08     39.930905    116.434665    389.000000        1.000000           1.000000           0.800000                        5.000000        209.000000\n",
      "75%    3.134482e+07  2.061464e+08     39.990470    116.491122    577.000000        1.000000           6.000000           1.750000                       11.000000        361.000000\n",
      "max    3.395441e+07  2.563498e+08     40.949660    117.495270  68983.000000     1125.000000         322.000000          20.000000                      222.000000        365.000000\n",
      "****************************************************************************************************************************************************** \n",
      "listings_detail.csv\n",
      "                               listing_url last_scraped                                                name                                                                                              summary                                                                                                space                                                                                          description experiences_offered                                                                                neighborhood_overview                                                                                                notes                                                                                              transit             access                      interaction                                                                                          house_rules                                                                                    picture_url  \\\n",
      "count                                28451        28451                                               28451                                                                                                25431                                                                                                18853                                                                                                25978               28451                                                                                                17981                                                                                                13177                                                                                                17857              15012                            15577                                                                                                13829                                                                                          28451   \n",
      "unique                               28451            1                                               27594                                                                                                19898                                                                                                14669                                                                                                22607                   1                                                                                                12470                                                                                                 8704                                                                                                12406              10012                            10097                                                                                                 9573                                                                                          27150   \n",
      "top     https://www.airbnb.com/rooms/44054   2019-04-17  距离首都机场T3航站楼3公里/新国展｡免费接送机早餐;2x2米舒适大床｡全时京味餐厅名厨料理,等你来  Thanks for your interests in my apartment. We are sorry that we could not provide you the detail...  北京天恒自在场头酒店管理有限责任公司于2017年在北京成立,旗下打造的文旅品牌“隐海”是国内首家以分散式胡同民宿进行规模化经营的沉浸式文化体验空间平台｡品牌以高端特色民宿为基础､胡同院落为空间...  北京城家分散式长短租公寓(北京望京店)是由华住酒店集团精心打造的精选公寓｡配备全套床上用品,首住赠一次性洗漱用品,每月1-4次深度保洁,拎包入住｡独立光纤网络,独立居住空间,整套家具､家电,满...                none  什刹海位处历史文化保护区内,坐拥北京核心区位｡北倚钟鼓楼,西连什刹海,东临南锣古巷,南望紫禁城,与历史文化名街“烟袋斜街”仅一街之隔｡ 骑行即可到达后海酒吧一条街､北海公园､宋庆龄故居､恭王府...  您好,谢谢您喜欢我的小房子,为了方便您和其他客人的入住,请您协助做到以下几点: 1.为了避免造成安全隐患以及资源浪费,请您节约用电,如果在您入住期间用电量超过20度,需要您线下支付超额电费 2...  出行路线: 天安门广场 (地铁2号线鼓楼大街站乘九站或公交82路直达) 鸟巢(乘地铁8号线,什刹海站乘六站或公交82路直达) 颐和园(乘坐地铁6号线,北海北站一站换乘地铁四号线至西苑站) 从烟...  · 房间是整租哒,您可以自由出入哦  (Phone number hidden by Airbnb)  其他守则: 如期而至的家人,期待在旅途中为您创造温暖,也请您爱护它~ 以下是几条入住须知:\\t 1)进屋之后:请换上居家拖鞋,地毯区域须脱鞋; 2)房间内禁止吸烟､酗酒; 3)厨房可做饭,无需...  https://a0.muscache.com/im/pictures/d7792b73-4e9d-48fa-84de-2b178fdc1b0f.jpg?aki_policy=large   \n",
      "freq                                     1        28451                                                  28                                                                                                  121                                                                                                   69                                                                                                   93               28451                                                                                                   75                                                                                                   66                                                                                                   83                185                              117                                                                                                  148                                                                                             35   \n",
      "\n",
      "                                           host_url host_name  host_since host_location                                                          host_about host_response_time host_response_rate host_is_superhost                                                                                   host_thumbnail_url                                                                                     host_picture_url host_neighbourhood         host_verifications host_has_profile_pic host_identity_verified                       street neighbourhood neighbourhood_cleansed     city        state zipcode   market  smart_location country_code country is_location_exact property_type        room_type  bed_type                                                                                            amenities    price weekly_price monthly_price security_deposit cleaning_fee extra_people calendar_updated has_availability calendar_last_scraped first_review last_review requires_license  \\\n",
      "count                                         28451     28451       28451         28309                                                               17602              25014              25014             28451                                                                                                28451                                                                                                28451              15783                      28451                28451                  28451                        28451         20910                  28451    28376        28395   18852    28450           28451        28451   28451             28451         28451            28451     28451                                                                                                28451    28451          389           396            10815        11768        28451            28451            28451                 28451        17294       17294            28451   \n",
      "unique                                        10791      6627        1949           283                                                                5944                  4                 65                 2                                                                                                10770                                                                                                10770                 94                        415                    2                      2                          495            61                     16      249          120     475        2             250            1       1                 2            42                3         5                                                                                                23308      502          240           233              233          161          155               65                1                     1         1410         883                1   \n",
      "top     https://www.airbnb.com/users/show/209669028        美婷  2018-08-15         China  一个有趣的人,不信来试试!\\r\\na humor man,hahaha, don't belive?just have a try!     within an hour               100%                 f  https://a0.muscache.com/im/pictures/user/65c33e46-4027-402c-a0cd-2173736c8dd7.jpg?aki_policy=pro...  https://a0.muscache.com/im/pictures/user/65c33e46-4027-402c-a0cd-2173736c8dd7.jpg?aki_policy=pro...           Chaoyang  ['phone', 'zhima_selfie']                    t                      f  Beijing, Beijing Shi, China      Chaoyang         朝阳区 / Chaoyang  Beijing  Beijing Shi  100001  Beijing  Beijing, China           CN   China                 f     Apartment  Entire home/apt  Real Bed  {TV,Wifi,\"Air conditioning\",Kitchen,Elevator,Heating,Washer,\"Smoke detector\",\"Carbon monoxide de...  $396.00    $1,000.00     $2,100.00            $0.00        $0.00        $0.00            today                t            2019-04-17   2019-01-01  2019-04-07                f   \n",
      "freq                                            222       223         244          9882                                                                 210              21164              17636             23061                                                                                                  222                                                                                                  222               1941                       4187                28413                  23361                         5832          6346                  10810     8418        17631    1464    27284            8419        28451   28451             16425         10589            16955     28336                                                                                                  113      991           12            10             4713         3711        22014             7171            28451                 28451          216        1067            28451   \n",
      "\n",
      "       instant_bookable is_business_travel_ready cancellation_policy require_guest_profile_picture require_guest_phone_verification  \n",
      "count             28451                    28451               28451                         28451                            28451  \n",
      "unique                2                        1                   3                             2                                2  \n",
      "top                   t                        f            flexible                             f                                f  \n",
      "freq              18646                    28451               15319                         28425                            28409   \n",
      "\n",
      "                  id     scrape_id       host_id  host_listings_count  host_total_listings_count      latitude     longitude  accommodates     bathrooms      bedrooms          beds  guests_included  minimum_nights  maximum_nights  minimum_minimum_nights  maximum_minimum_nights  minimum_maximum_nights  maximum_maximum_nights  minimum_nights_avg_ntm  maximum_nights_avg_ntm  availability_30  availability_60  availability_90  availability_365  number_of_reviews  number_of_reviews_ltm  review_scores_rating  review_scores_accuracy  review_scores_cleanliness  review_scores_checkin  review_scores_communication  review_scores_location  review_scores_value  calculated_host_listings_count  calculated_host_listings_count_entire_homes  calculated_host_listings_count_private_rooms  calculated_host_listings_count_shared_rooms  reviews_per_month\n",
      "count  2.845100e+04  2.845100e+04  2.845100e+04         28451.000000               28451.000000  28451.000000  28451.000000  28451.000000  28445.000000  28435.000000  28435.000000     28451.000000    28451.000000    2.845100e+04            28451.000000            28451.000000            2.845100e+04            2.845100e+04            28451.000000            2.845100e+04     28451.000000     28451.000000     28451.000000      28451.000000       28451.000000           28451.000000          16897.000000            16897.000000               16897.000000           16886.000000                 16896.000000            16874.000000         16874.000000                    28451.000000                                 28451.000000                                  28451.000000                                 28451.000000       17294.000000\n",
      "mean   2.628648e+07  2.019042e+13  1.442867e+08            13.822291                  13.822291     39.983232    116.442008      3.469825      1.257796      1.453420      2.017197         1.351763        2.729746    3.611305e+04                2.638290                2.904186            3.611292e+04            3.611307e+04                2.728829            3.611300e+04        19.741274        43.924361        68.621454        220.337071           7.103406               4.691364             94.962893                9.681008                   9.507013               9.754767                     9.800249                9.623918             9.509245                       12.818706                                     8.238937                                      4.100594                                     0.479175           1.319757\n",
      "std    6.402484e+06  0.000000e+00  7.056758e+07            30.451622                  30.451622      0.186984      0.204795      2.743459      1.113608      1.212886      2.265433         1.164223       17.921244    5.928585e+06               16.543001               19.796999            5.928585e+06            5.928585e+06               16.862000            5.928585e+06        10.565838        20.437967        30.096811        138.430490          16.815310               9.720753             10.035642                0.924552                   1.022689               0.842163                     0.777032                0.880637             1.019779                       29.261751                                    22.836560                                     15.495445                                     2.696678           1.581243\n",
      "min    4.405400e+04  2.019042e+13  1.928750e+05             0.000000                   0.000000     39.455810    115.473390      1.000000      0.000000      0.000000      0.000000         1.000000        1.000000    1.000000e+00                1.000000                1.000000            1.000000e+00            1.000000e+00                1.000000            1.000000e+00         0.000000         0.000000         0.000000          0.000000           0.000000               0.000000             20.000000                2.000000                   2.000000               2.000000                     2.000000                2.000000             2.000000                        1.000000                                     0.000000                                      0.000000                                     0.000000           0.010000\n",
      "25%    2.245617e+07  2.019042e+13  8.710342e+07             2.000000                   2.000000     39.897335    116.355290      2.000000      1.000000      1.000000      1.000000         1.000000        1.000000    1.125000e+03                1.000000                1.000000            1.125000e+03            1.125000e+03                1.000000            1.125000e+03        14.000000        39.000000        66.000000         87.000000           0.000000               0.000000             94.000000               10.000000                   9.000000              10.000000                    10.000000               10.000000             9.000000                        2.000000                                     0.000000                                      0.000000                                     0.000000           0.290000\n",
      "50%    2.787784e+07  2.019042e+13  1.525464e+08             5.000000                   5.000000     39.930910    116.434670      2.000000      1.000000      1.000000      1.000000         1.000000        1.000000    1.125000e+03                1.000000                1.000000            1.125000e+03            1.125000e+03                1.000000            1.125000e+03        24.000000        53.000000        83.000000        209.000000           1.000000               1.000000             99.000000               10.000000                  10.000000              10.000000                    10.000000               10.000000            10.000000                        5.000000                                     2.000000                                      0.000000                                     0.000000           0.800000\n",
      "75%    3.134485e+07  2.019042e+13  2.061525e+08            12.000000                  12.000000     39.990470    116.491125      4.000000      1.000000      2.000000      2.000000         1.000000        1.000000    1.125000e+03                1.000000                1.000000            1.125000e+03            1.125000e+03                1.000000            1.125000e+03        29.000000        59.000000        89.000000        361.000000           6.000000               4.000000            100.000000               10.000000                  10.000000              10.000000                    10.000000               10.000000            10.000000                       11.000000                                     7.000000                                      2.000000                                     0.000000           1.750000\n",
      "max    3.395441e+07  2.019042e+13  2.563498e+08           222.000000                 222.000000     40.949660    117.495270     16.000000    101.500000     24.000000     50.000000        16.000000     1125.000000    1.000000e+09             1125.000000             1125.000000            1.000000e+09            1.000000e+09             1125.000000            1.000000e+09        30.000000        60.000000        90.000000        365.000000         322.000000             124.000000            100.000000               10.000000                  10.000000              10.000000                    10.000000               10.000000            10.000000                      222.000000                                   222.000000                                    150.000000                                    44.000000          20.000000\n",
      "****************************************************************************************************************************************************** \n",
      "neighbourhoods.csv\n",
      "       neighbourhood\n",
      "count             16\n",
      "unique            16\n",
      "top              东城区\n",
      "freq               1 \n",
      "\n",
      " Series([], dtype: float64)\n",
      "****************************************************************************************************************************************************** \n",
      "reviews.csv\n",
      "              date\n",
      "count       201736\n",
      "unique        2165\n",
      "top     2019-04-07\n",
      "freq          1683 \n",
      "\n",
      "          listing_id\n",
      "count  2.017360e+05\n",
      "mean   2.083752e+07\n",
      "std    7.270971e+06\n",
      "min    4.405400e+04\n",
      "25%    1.603570e+07\n",
      "50%    2.119425e+07\n",
      "75%    2.679026e+07\n",
      "max    3.392587e+07\n",
      "****************************************************************************************************************************************************** \n",
      "reviews_detail.csv\n",
      "              date reviewer_name comments\n",
      "count       201982        201976   201982\n",
      "unique        2165         64256   188923\n",
      "top     2019-04-07             王       很好\n",
      "freq          1683           492      862 \n",
      "\n",
      "          listing_id            id   reviewer_id\n",
      "count  2.019820e+05  2.019820e+05  2.019820e+05\n",
      "mean   2.082738e+07  2.908148e+08  1.322995e+08\n",
      "std    7.274758e+06  1.047234e+08  6.963191e+07\n",
      "min    4.405400e+04  8.474800e+04  1.000000e+00\n",
      "25%    1.603155e+07  2.166795e+08  7.455022e+07\n",
      "50%    2.118408e+07  3.072075e+08  1.344615e+08\n",
      "75%    2.678622e+07  3.651931e+08  1.923710e+08\n",
      "max    3.392587e+07  4.387516e+08  2.563751e+08\n"
     ]
    }
   ],
   "source": [
    "for name, df in DATAS.items():\n",
    "  non_numeric_columns = df.select_dtypes(exclude=['number']).columns\n",
    "  _n = df.loc[:, df.columns.isin(non_numeric_columns)]\n",
    "  _nn = df.loc[:, ~df.columns.isin(non_numeric_columns)]\n",
    "  print('*'*150, f'\\n{name}.csv\\n{_n.describe()}','\\n\\n', _nn.apply(lambda x: '' if x.empty else x.describe()))\n",
    "  # lambda函数，它对空的df返回一个空字符串，避免空df.describe()报错"
   ]
  },
  {
   "cell_type": "markdown",
   "metadata": {},
   "source": [
    "处理异常值"
   ]
  },
  {
   "cell_type": "code",
   "execution_count": 149,
   "metadata": {},
   "outputs": [
    {
     "name": "stdout",
     "output_type": "stream",
     "text": [
      "         price  minimum_nights  number_of_reviews  reviews_per_month  calculated_host_listings_count  availability_365\n",
      "count 28452.00        28452.00           28452.00           17294.00                        28452.00          28452.00\n",
      "mean    611.20            2.73               7.10               1.32                           12.82            220.34\n",
      "std    1623.54           17.92              16.82               1.58                           29.26            138.43\n",
      "min       0.00            1.00               0.00               0.01                            1.00              0.00\n",
      "50%     389.00            1.00               1.00               0.80                            5.00            209.00\n",
      "75%     577.00            1.00               6.00               1.75                           11.00            361.00\n",
      "99%    4402.00           30.00              84.00               7.32                          210.00            365.00\n",
      "max   68983.00         1125.00             322.00              20.00                          222.00            365.00\n",
      "Compare 'number_of_reviews' & 'last_review' & 'reviews_per_month' : True\n",
      "------------------------------------------------------------------------------------------------------------------------------------------------------\n",
      "------------------------------------------------------------------------------------------------------------------------------------------------------\n",
      "         price  minimum_nights  number_of_reviews  reviews_per_month  calculated_host_listings_count  availability_365\n",
      "count 15804.00        15804.00           15804.00           15804.00                        15804.00          15804.00\n",
      "mean    535.81            1.90              11.99               1.38                           10.25            233.36\n",
      "std    1448.25           13.04              20.69               1.62                           19.78            126.91\n",
      "min      47.00            1.00               1.00               0.01                            1.00              1.00\n",
      "50%     389.00            1.00               4.00               0.87                            5.00            270.00\n",
      "75%     545.50            1.00              13.00               1.87                           11.00            359.00\n",
      "99%    3281.00           15.00             104.97               7.50                           66.00            365.00\n",
      "max   68983.00         1124.00             322.00              20.00                          222.00            365.00\n",
      "            listing_id\n",
      "date                  \n",
      "2010-08-25           1\n",
      "2010-10-13           1\n",
      "2011-06-02           1\n",
      "2011-06-05           1\n",
      "2011-08-02           1\n",
      "...                ...\n",
      "2019-04-13         457\n",
      "2019-04-14         667\n",
      "2019-04-15         360\n",
      "2019-04-16         270\n",
      "2019-04-17         154\n",
      "\n",
      "[2165 rows x 1 columns]\n",
      "            listing_id\n",
      "date                  \n",
      "2010-08-25           1\n",
      "2010-10-13           1\n",
      "2011-06-02           1\n",
      "2011-06-05           1\n",
      "2011-08-02           1\n",
      "...                ...\n",
      "2019-04-13         457\n",
      "2019-04-14         668\n",
      "2019-04-15         361\n",
      "2019-04-16         270\n",
      "2019-04-17         155\n",
      "\n",
      "[2165 rows x 1 columns]\n"
     ]
    }
   ],
   "source": [
    "# calendar_detail.csv\n",
    "df = DATAS['calendar_detail']\n",
    "df[df.columns[3:5]] = df[df.columns[3:5]].replace('[\\$,]', '', regex=True).astype(float)\n",
    "pd.set_option('display.float_format', lambda x:'%.2f'%x) # 小数点后面保留2位小数\n",
    "df = df.drop(df[df.price==1].index) #删去明显不正常的数据\n",
    "df = df.drop(df[df.maximum_nights>1125*3].index) #删去明显不正常的数据\n",
    "\n",
    "# listings.csv\n",
    "df = DATAS['listings']\n",
    "print(df[['price','minimum_nights','number_of_reviews','last_review','reviews_per_month',\\\n",
    "          'calculated_host_listings_count','availability_365']].describe(percentiles=[.75, .99]))  #对数据进行描述性统计分析\n",
    "df['neighbourhood'] = df['neighbourhood'].apply(lambda x: x.split('/')[0])  # 保留neighbourhood中文，去除 / 后面英文\n",
    "df['neighbourhood'] = df['neighbourhood'].str.replace(' ','') # 删除空格\n",
    "df = df[df['price'] != 0]  # 删除 price 为 0 的行\n",
    "print(\"Compare 'number_of_reviews' & 'last_review' & 'reviews_per_month' :\", df[df['number_of_reviews']==0].index.to_list()\\\n",
    "      == df[df['last_review'].isnull()].index.to_list() == df[df['reviews_per_month'].isnull()].index.to_list()) # True 表示三列异常值位置完全一致\n",
    "print(\"-\" * 150)\n",
    "# 单独处理这些没有访问量的数据\n",
    "df0 = df[df['last_review'].isnull()]\n",
    "df0.to_csv(os.path.join(SRC_DIR, '_listings_reviews0.csv'))\n",
    "del df0\n",
    "df = df.drop(df[df['number_of_reviews']==0].index)\n",
    "df.dropna(axis=0,how='any')\n",
    "df = df.drop(df[df['availability_365']==0].index)\n",
    "print(\"-\" * 150)\n",
    "print(df[['price','minimum_nights','number_of_reviews','last_review','reviews_per_month',\\\n",
    "          'calculated_host_listings_count','availability_365']].describe(percentiles=[.75, .99]))  #对数据进行描述性统计分析\n",
    "\n",
    "# listings_detail.csv\n",
    "df = DATAS['listings_detail']\n",
    "df['neighbourhood_cleansed'] = df['neighbourhood_cleansed'].apply(\n",
    "    lambda x: x.split('/')[0])  # 保留 neighbourhood 中文，去除/后面英文\n",
    "\n",
    "# neighbourhoods.csv\n",
    "df = DATAS['neighbourhoods']\n",
    "df['neighbourhood'] = df['neighbourhood'].apply(lambda x: x.split('/')[0])  # 保留neighbourhood中文，去除 / 后面英文\n",
    "\n",
    "# reviews.csv\n",
    "df = DATAS['reviews']\n",
    "table = pd.pivot_table(df,index=['date'],values=['listing_id'],aggfunc='count') # 尝试生成透视表，成功则接下来可以用于绘制时间序列图\n",
    "print(table)\n",
    "\n",
    "# reviews_detail.csv\n",
    "df = DATAS['reviews_detail']\n",
    "table = pd.pivot_table(df,index=['date'],values=['listing_id'],aggfunc='count') # 尝试生成透视表，成功则接下来可以用于绘制时间序列图\n",
    "print(table)"
   ]
  },
  {
   "cell_type": "markdown",
   "metadata": {},
   "source": [
    "## （4）将数据文件中的中文、英文文本分割为单独文件"
   ]
  },
  {
   "cell_type": "markdown",
   "metadata": {},
   "source": [
    "根据后面的需求，只需要对 reviews_detail.csv 进行中英文分割"
   ]
  },
  {
   "cell_type": "code",
   "execution_count": 150,
   "metadata": {},
   "outputs": [
    {
     "name": "stdout",
     "output_type": "stream",
     "text": [
      "Chinese： (169070, 6)\n",
      "English： (32912, 6)\n"
     ]
    }
   ],
   "source": [
    "df = DATAS['reviews_detail']\n",
    "\n",
    "DATAS['reviews_detail_Chinese'] = df[(df['comments'] >= '\\u4e00') & (df['comments'] <= u'\\u9fa5')].copy()\n",
    "DATAS['reviews_detail_Chinese'][\"reviewer_name\"].fillna(\"佚名\", inplace = True)  # 填充有空值行\n",
    "print(\"Chinese：\", DATAS['reviews_detail_Chinese'].shape)\n",
    "\n",
    "DATAS['reviews_detail_English'] = df.drop(df[(df['comments'] >= '\\u4e00') & (df['comments'] <= u'\\u9fa5')].index).copy()\n",
    "DATAS['reviews_detail_English'][\"reviewer_name\"].fillna(\"Anonymous\", inplace = True)  # 填充有空值行\n",
    "print(\"English：\", DATAS['reviews_detail_English'].shape)"
   ]
  },
  {
   "cell_type": "markdown",
   "metadata": {},
   "source": [
    "---\n",
    "\n",
    "## 单独处理 neighbourhoods.geojso"
   ]
  },
  {
   "cell_type": "code",
   "execution_count": 151,
   "metadata": {},
   "outputs": [
    {
     "name": "stdout",
     "output_type": "stream",
     "text": [
      "neighbourhoods.geojson -> _neighbourhoods.geojson\n",
      "******************************************************************************************************************************************************\n",
      "处理前： (16, 3)\n",
      "处理后： (16, 2)\n",
      "____________________________________________________________________  Good job !  ____________________________________________________________________\n"
     ]
    }
   ],
   "source": [
    "import geopandas as gpd\n",
    "print(\"neighbourhoods.geojson -> _neighbourhoods.geojson\")\n",
    "print(\"*\" * 150)\n",
    "DATAS['neighbourhoods_geojson'] = gpd.GeoDataFrame.from_file(\n",
    "    os.path.join(SRC_DIR, \"neighbourhoods.geojson\"), encoding=\"utf-8\"\n",
    ")  # 读取数据为geodataframe格式\n",
    "print(\"处理前：\", DATAS['neighbourhoods_geojson'].shape)\n",
    "DATAS['neighbourhoods_geojson'].drop('neighbourhood_group',axis = 1,inplace = True)\n",
    "DATAS['neighbourhoods_geojson']['neighbourhood'] = DATAS['neighbourhoods_geojson']['neighbourhood'].apply(lambda x: x.split('/')[0])  # 保留neighbourhood中文，去除 / 后面英文\n",
    "DATAS['neighbourhoods_geojson']['neighbourhood'] = DATAS['neighbourhoods_geojson']['neighbourhood'].str.replace(' ','') # 删除空格\n",
    "print(\"处理后：\", DATAS['neighbourhoods_geojson'].shape)\n",
    "print(\"_\"*68,\" Good job ! \",\"_\"*68)"
   ]
  },
  {
   "cell_type": "markdown",
   "metadata": {},
   "source": [
    "## 导出结果为文件"
   ]
  },
  {
   "cell_type": "code",
   "execution_count": 152,
   "metadata": {},
   "outputs": [
    {
     "name": "stdout",
     "output_type": "stream",
     "text": [
      "calendar_detail.csv -> _calendar_detail.csv\n",
      "listings.csv -> _listings.csv\n",
      "listings_detail.csv -> _listings_detail.csv\n",
      "neighbourhoods.csv -> _neighbourhoods.csv\n",
      "neighbourhoods.geojson -> _neighbourhoods.geojson\n",
      "reviews.csv -> _reviews.csv\n",
      "reviews_detail.csv -> _reviews_detail_chinese.csv + _reviews_detail_english.csv\n",
      "____________________________________________________________________  Good job !  ____________________________________________________________________\n"
     ]
    }
   ],
   "source": [
    "\n",
    "print(\"calendar_detail.csv -> _calendar_detail.csv\")\n",
    "DATAS['calendar_detail'].to_csv(os.path.join(SRC_DIR, '_calendar_detail.csv'))\n",
    "\n",
    "print(\"listings.csv -> _listings.csv\")\n",
    "DATAS['listings'].to_csv(os.path.join(SRC_DIR, '_listings.csv'))\n",
    "\n",
    "print(\"listings_detail.csv -> _listings_detail.csv\")\n",
    "DATAS['listings_detail'].to_csv(os.path.join(SRC_DIR, '_listings_detail.csv'))\n",
    "\n",
    "print(\"neighbourhoods.csv -> _neighbourhoods.csv\")\n",
    "DATAS['neighbourhoods'].to_csv(os.path.join(SRC_DIR, '_neighbourhoods.csv'))\n",
    "\n",
    "print(\"neighbourhoods.geojson -> _neighbourhoods.geojson\")\n",
    "DATAS['neighbourhoods_geojson'].to_file(os.path.join(SRC_DIR, '_neighbourhoods.geojson'), driver='GeoJSON')\n",
    "\n",
    "print(\"reviews.csv -> _reviews.csv\")\n",
    "DATAS['reviews'].to_csv(os.path.join(SRC_DIR, '_reviews.csv'))\n",
    "\n",
    "print(\"reviews_detail.csv -> _reviews_detail_chinese.csv + _reviews_detail_english.csv\")\n",
    "DATAS['reviews_detail_Chinese'].to_csv(os.path.join(SRC_DIR, '_reviews_detail_chinese.csv'))\n",
    "DATAS['reviews_detail_English'].to_csv(os.path.join(SRC_DIR, '_reviews_detail_english.csv'))\n",
    "\n",
    "print(\"_\"*68,\" Good job ! \",\"_\"*68)"
   ]
  },
  {
   "cell_type": "markdown",
   "metadata": {},
   "source": [
    "#\n",
    "\\- The End -"
   ]
  }
 ],
 "metadata": {
  "kernelspec": {
   "display_name": "lab",
   "language": "python",
   "name": "lab"
  },
  "language_info": {
   "codemirror_mode": {
    "name": "ipython",
    "version": 3
   },
   "file_extension": ".py",
   "mimetype": "text/x-python",
   "name": "python",
   "nbconvert_exporter": "python",
   "pygments_lexer": "ipython3",
   "version": "3.10.11"
  }
 },
 "nbformat": 4,
 "nbformat_minor": 2
}
