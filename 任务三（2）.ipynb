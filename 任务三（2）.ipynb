{
 "cells": [
  {
   "cell_type": "markdown",
   "metadata": {},
   "source": [
    "# 任务三 文本分析与词云图绘制（二选一）\n",
    "\n",
    "> （2）运用第三方包，对中文、英文评论文本进行情感分析，并对情感极性作描述性统计"
   ]
  },
  {
   "cell_type": "code",
   "execution_count": 1,
   "metadata": {},
   "outputs": [
    {
     "name": "stdout",
     "output_type": "stream",
     "text": [
      "c:\\Users\\Administrator\\WPSDrive\\205034987\\WPS云盘\\07 绛亽新学习\\01 电子商务\\05 20级大四上学期\\商务智能实验\\notebook\\data\n"
     ]
    }
   ],
   "source": [
    "import os,sys\n",
    "SRC_DIR = os.path.join(os.path.abspath('.'), 'data')\n",
    "print(SRC_DIR)"
   ]
  },
  {
   "cell_type": "code",
   "execution_count": 2,
   "metadata": {},
   "outputs": [
    {
     "name": "stdout",
     "output_type": "stream",
     "text": [
      "Looking in indexes: https://mirrors.tencent.com/pypi/simple\n",
      "Collecting snownlp\n",
      "  Downloading https://mirrors.tencent.com/pypi/packages/3d/b3/37567686662100d3bce62d3b0f2adec18ab4b9ff2b61abd7a61c39343c1d/snownlp-0.12.3.tar.gz (37.6 MB)\n",
      "                                              0.0/37.6 MB ? eta -:--:--\n",
      "                                              0.4/37.6 MB 13.1 MB/s eta 0:00:03\n",
      "     -                                        1.0/37.6 MB 12.2 MB/s eta 0:00:04\n",
      "     -                                        1.6/37.6 MB 12.4 MB/s eta 0:00:03\n",
      "     --                                       2.1/37.6 MB 12.1 MB/s eta 0:00:03\n",
      "     --                                       2.6/37.6 MB 12.9 MB/s eta 0:00:03\n",
      "     ---                                      3.1/37.6 MB 12.3 MB/s eta 0:00:03\n",
      "     ---                                      3.6/37.6 MB 12.2 MB/s eta 0:00:03\n",
      "     ----                                     4.2/37.6 MB 12.1 MB/s eta 0:00:03\n",
      "     -----                                    4.7/37.6 MB 12.0 MB/s eta 0:00:03\n",
      "     -----                                    5.3/37.6 MB 12.0 MB/s eta 0:00:03\n",
      "     ------                                   5.7/37.6 MB 11.8 MB/s eta 0:00:03\n",
      "     ------                                   6.3/37.6 MB 11.8 MB/s eta 0:00:03\n",
      "     -------                                  6.9/37.6 MB 11.8 MB/s eta 0:00:03\n",
      "     -------                                  7.4/37.6 MB 11.8 MB/s eta 0:00:03\n",
      "     --------                                 7.9/37.6 MB 11.7 MB/s eta 0:00:03\n",
      "     --------                                 8.4/37.6 MB 11.7 MB/s eta 0:00:03\n",
      "     ---------                                8.9/37.6 MB 11.6 MB/s eta 0:00:03\n",
      "     ----------                               9.4/37.6 MB 11.6 MB/s eta 0:00:03\n",
      "     ----------                              10.0/37.6 MB 11.6 MB/s eta 0:00:03\n",
      "     ----------                              10.5/37.6 MB 11.5 MB/s eta 0:00:03\n",
      "     -----------                             11.0/37.6 MB 11.5 MB/s eta 0:00:03\n",
      "     -----------                             11.5/37.6 MB 11.3 MB/s eta 0:00:03\n",
      "     ------------                            12.1/37.6 MB 11.3 MB/s eta 0:00:03\n",
      "     -------------                           12.6/37.6 MB 11.3 MB/s eta 0:00:03\n",
      "     -------------                           13.2/37.6 MB 11.3 MB/s eta 0:00:03\n",
      "     --------------                          13.7/37.6 MB 11.5 MB/s eta 0:00:03\n",
      "     --------------                          14.2/37.6 MB 11.3 MB/s eta 0:00:03\n",
      "     ---------------                         14.7/37.6 MB 11.5 MB/s eta 0:00:02\n",
      "     ---------------                         15.2/37.6 MB 11.5 MB/s eta 0:00:02\n",
      "     ----------------                        15.7/37.6 MB 11.3 MB/s eta 0:00:02\n",
      "     ----------------                        16.2/37.6 MB 11.3 MB/s eta 0:00:02\n",
      "     -----------------                       16.8/37.6 MB 11.3 MB/s eta 0:00:02\n",
      "     -----------------                       17.3/37.6 MB 11.3 MB/s eta 0:00:02\n",
      "     ------------------                      17.8/37.6 MB 11.3 MB/s eta 0:00:02\n",
      "     -------------------                     18.3/37.6 MB 11.3 MB/s eta 0:00:02\n",
      "     -------------------                     18.9/37.6 MB 11.3 MB/s eta 0:00:02\n",
      "     --------------------                    19.4/37.6 MB 11.3 MB/s eta 0:00:02\n",
      "     --------------------                    19.9/37.6 MB 11.3 MB/s eta 0:00:02\n",
      "     ---------------------                   20.4/37.6 MB 11.3 MB/s eta 0:00:02\n",
      "     ---------------------                   20.9/37.6 MB 11.5 MB/s eta 0:00:02\n",
      "     ----------------------                  21.4/37.6 MB 11.5 MB/s eta 0:00:02\n",
      "     ----------------------                  22.0/37.6 MB 11.3 MB/s eta 0:00:02\n",
      "     -----------------------                 22.5/37.6 MB 11.5 MB/s eta 0:00:02\n",
      "     -----------------------                 23.0/37.6 MB 11.5 MB/s eta 0:00:02\n",
      "     ------------------------                23.6/37.6 MB 11.5 MB/s eta 0:00:02\n",
      "     ------------------------                24.1/37.6 MB 11.5 MB/s eta 0:00:02\n",
      "     -------------------------               24.6/37.6 MB 11.5 MB/s eta 0:00:02\n",
      "     --------------------------              25.1/37.6 MB 11.3 MB/s eta 0:00:02\n",
      "     --------------------------              25.6/37.6 MB 11.3 MB/s eta 0:00:02\n",
      "     ---------------------------             26.1/37.6 MB 11.3 MB/s eta 0:00:02\n",
      "     ---------------------------             26.6/37.6 MB 11.1 MB/s eta 0:00:01\n",
      "     ---------------------------             27.0/37.6 MB 11.1 MB/s eta 0:00:01\n",
      "     ----------------------------            27.4/37.6 MB 10.9 MB/s eta 0:00:01\n",
      "     ----------------------------            27.9/37.6 MB 10.9 MB/s eta 0:00:01\n",
      "     -----------------------------           28.3/37.6 MB 10.9 MB/s eta 0:00:01\n",
      "     -----------------------------           28.8/37.6 MB 10.7 MB/s eta 0:00:01\n",
      "     ------------------------------          29.2/37.6 MB 10.7 MB/s eta 0:00:01\n",
      "     ------------------------------          29.6/37.6 MB 10.6 MB/s eta 0:00:01\n",
      "     -------------------------------         30.1/37.6 MB 10.6 MB/s eta 0:00:01\n",
      "     -------------------------------         30.6/37.6 MB 10.4 MB/s eta 0:00:01\n",
      "     --------------------------------        31.0/37.6 MB 10.6 MB/s eta 0:00:01\n",
      "     --------------------------------        31.5/37.6 MB 10.4 MB/s eta 0:00:01\n",
      "     --------------------------------        31.8/37.6 MB 10.2 MB/s eta 0:00:01\n",
      "     ---------------------------------       32.3/37.6 MB 10.2 MB/s eta 0:00:01\n",
      "     ---------------------------------       32.8/37.6 MB 10.2 MB/s eta 0:00:01\n",
      "     ----------------------------------      33.2/37.6 MB 10.1 MB/s eta 0:00:01\n",
      "     ----------------------------------      33.7/37.6 MB 10.1 MB/s eta 0:00:01\n",
      "     ------------------------------------     34.1/37.6 MB 9.9 MB/s eta 0:00:01\n",
      "     ------------------------------------     34.6/37.6 MB 9.9 MB/s eta 0:00:01\n",
      "     -------------------------------------    35.1/37.6 MB 9.9 MB/s eta 0:00:01\n",
      "     -------------------------------------    35.5/37.6 MB 9.8 MB/s eta 0:00:01\n",
      "     --------------------------------------   35.9/37.6 MB 9.8 MB/s eta 0:00:01\n",
      "     --------------------------------------   36.4/37.6 MB 9.8 MB/s eta 0:00:01\n",
      "     ---------------------------------------  36.8/37.6 MB 9.8 MB/s eta 0:00:01\n",
      "     ---------------------------------------  37.3/37.6 MB 9.8 MB/s eta 0:00:01\n",
      "     ---------------------------------------  37.6/37.6 MB 9.8 MB/s eta 0:00:01\n",
      "     ---------------------------------------  37.6/37.6 MB 9.8 MB/s eta 0:00:01\n",
      "     ---------------------------------------- 37.6/37.6 MB 9.2 MB/s eta 0:00:00\n",
      "  Preparing metadata (setup.py): started\n",
      "  Preparing metadata (setup.py): finished with status 'done'\n",
      "Building wheels for collected packages: snownlp\n",
      "  Building wheel for snownlp (setup.py): started\n",
      "  Building wheel for snownlp (setup.py): finished with status 'done'\n",
      "  Created wheel for snownlp: filename=snownlp-0.12.3-py3-none-any.whl size=37760954 sha256=b8a17289670d5a4bb6f3b0fdab47e1c10d9a4d65e10b0d1b2c8973a296b17101\n",
      "  Stored in directory: c:\\users\\administrator\\appdata\\local\\pip\\cache\\wheels\\99\\7b\\f5\\f2f60c24cf783cf905ded565714782537caaa167349af59960\n",
      "Successfully built snownlp\n",
      "Installing collected packages: snownlp\n",
      "Successfully installed snownlp-0.12.3\n",
      "Note: you may need to restart the kernel to use updated packages.\n"
     ]
    }
   ],
   "source": [
    "# 中文语言处理包\n",
    "%pip install snownlp"
   ]
  },
  {
   "cell_type": "code",
   "execution_count": 3,
   "metadata": {},
   "outputs": [],
   "source": [
    "import pandas as pd\n",
    "import re\n",
    "from snownlp import SnowNLP\n",
    "import matplotlib.pyplot as plt\n",
    "\n",
    "# 解决中文无法显示的问题\n",
    "plt.rc('font', family='SimHei', size='12')"
   ]
  },
  {
   "cell_type": "code",
   "execution_count": 6,
   "metadata": {},
   "outputs": [
    {
     "name": "stdout",
     "output_type": "stream",
     "text": [
      "<class 'pandas.core.frame.DataFrame'>\n",
      "RangeIndex: 169070 entries, 0 to 169069\n",
      "Data columns (total 3 columns):\n",
      " #   Column          Non-Null Count   Dtype \n",
      "---  ------          --------------   ----- \n",
      " 0   listing_id      169070 non-null  int64 \n",
      " 1   comments        169070 non-null  object\n",
      " 2   comments_score  169070 non-null  object\n",
      "dtypes: int64(1), object(2)\n",
      "memory usage: 3.9+ MB\n"
     ]
    }
   ],
   "source": [
    "#做中文文本情感分析\n",
    "reviews_detail_df_cc_中文=pd.read_csv(os.path.join(SRC_DIR,'_reviews_detail_chinese.csv'))\n",
    "columns=['listing_id','comments']\n",
    "reviews_detail_df_cc_中文=reviews_detail_df_cc_中文[columns]\n",
    "reviews_detail_df_cc_中文.insert(2, 'comments_score', ' ')    # 在第三列插入新列\n",
    "reviews_detail_df_cc_中文['comments_score'] = ''\n",
    "reviews_detail_df_cc_中文.info()"
   ]
  },
  {
   "cell_type": "code",
   "execution_count": 7,
   "metadata": {},
   "outputs": [
    {
     "name": "stdout",
     "output_type": "stream",
     "text": [
      "   listing_id                                           comments  \\\n",
      "0       44054  非常美好的一次入住体验,我们两家带着孩子和老人一共五大两小,在那里住的非常舒服,还给宝宝熬了...   \n",
      "1       44054         房子非常好~小区非常棒~离地铁站非常近~~设施非常齐全~~服务非常到位~~完全满意~   \n",
      "2       44054        房间外面看的景色不错,就是洗澡的龙头有点高,房间很好.很舒服,第一次来北京,暖气很足~   \n",
      "3       44054                                                好!!   \n",
      "4       44054           非常好的居住体验,交通便利,设施齐全,我们的房间在最顶层,客厅看出去的夜景不错｡   \n",
      "\n",
      "   comments_score  \n",
      "0         0.99991  \n",
      "1         0.99995  \n",
      "2         0.98670  \n",
      "3         0.47391  \n",
      "4         0.99995  \n"
     ]
    }
   ],
   "source": [
    "# 定义情感得分评分函数\n",
    "def get_sentiment_score(text):\n",
    "    temp_score = SnowNLP(text)\n",
    "    # 保留5位小数，采用四舍五入\n",
    "    return float(format(temp_score.sentiments, '.5f'))\n",
    "#计算每一条评论的情感倾向值\n",
    "reviews_detail_df_cc_中文['comments_score'] = reviews_detail_df_cc_中文['comments'].apply(get_sentiment_score)\n",
    "print(reviews_detail_df_cc_中文.head())"
   ]
  },
  {
   "cell_type": "code",
   "execution_count": 8,
   "metadata": {},
   "outputs": [
    {
     "name": "stdout",
     "output_type": "stream",
     "text": [
      "count    169070.000000\n",
      "mean          0.854838\n",
      "std           0.273482\n",
      "min           0.000000\n",
      "25%           0.862320\n",
      "50%           0.990460\n",
      "75%           0.999810\n",
      "max           1.000000\n",
      "Name: comments_score, dtype: float64\n"
     ]
    }
   ],
   "source": [
    "print(reviews_detail_df_cc_中文['comments_score'].describe(include='all'))"
   ]
  },
  {
   "cell_type": "code",
   "execution_count": 9,
   "metadata": {},
   "outputs": [
    {
     "name": "stdout",
     "output_type": "stream",
     "text": [
      "comments_score\n",
      "(-0.002, 0.2]      495\n",
      "(0.2, 0.4]         249\n",
      "(0.4, 0.6]         775\n",
      "(0.6, 0.8]        3008\n",
      "(0.8, 1.0]       11890\n",
      "Name: count, dtype: int64\n"
     ]
    },
    {
     "data": {
      "image/png": "[encoded data removed]",
      "text/plain": [
       "<Figure size 640x480 with 1 Axes>"
      ]
     },
     "metadata": {},
     "output_type": "display_data"
    }
   ],
   "source": [
    "reviews_l_cs = reviews_detail_df_cc_中文.groupby('listing_id')['comments_score'].mean()\n",
    "reviews_l_cs_5 = reviews_l_cs.value_counts(bins=5).sort_index()\n",
    "print(reviews_l_cs_5)\n",
    "# 绘制柱状图\n",
    "reviews_l_cs_5.plot(kind='bar', alpha=0.6)\n",
    "plt.xticks(rotation=360)\n",
    "plt.xlabel(\"情感倾向值区间\")\n",
    "plt.ylabel(\"房子数量\")\n",
    "plt.show()"
   ]
  },
  {
   "cell_type": "code",
   "execution_count": 10,
   "metadata": {},
   "outputs": [],
   "source": [
    "#做英文文本情感分析\n",
    "reviews_detail_df_cc_英文=pd.read_csv(os.path.join(SRC_DIR,'_reviews_detail_english.csv'))\n",
    "columns=['listing_id','comments']\n",
    "reviews_detail_df_cc_英文=reviews_detail_df_cc_英文[columns]\n",
    "reviews_detail_df_cc_英文.insert(2, 'comments_score', ' ')    # 在第三列插入新列\n",
    "reviews_detail_df_cc_英文['comments_score'] = ''"
   ]
  },
  {
   "cell_type": "code",
   "execution_count": 11,
   "metadata": {},
   "outputs": [
    {
     "name": "stdout",
     "output_type": "stream",
     "text": [
      "<class 'pandas.core.frame.DataFrame'>\n",
      "RangeIndex: 32912 entries, 0 to 32911\n",
      "Data columns (total 3 columns):\n",
      " #   Column          Non-Null Count  Dtype \n",
      "---  ------          --------------  ----- \n",
      " 0   listing_id      32912 non-null  int64 \n",
      " 1   comments        32912 non-null  object\n",
      " 2   comments_score  32912 non-null  object\n",
      "dtypes: int64(1), object(2)\n",
      "memory usage: 771.5+ KB\n"
     ]
    }
   ],
   "source": [
    "reviews_detail_df_cc_英文=reviews_detail_df_cc_英文.dropna(axis=0,subset=['comments'])#删除comments为空值的行\n",
    "reviews_detail_df_cc_英文.info()"
   ]
  },
  {
   "cell_type": "code",
   "execution_count": 12,
   "metadata": {},
   "outputs": [
    {
     "name": "stdout",
     "output_type": "stream",
     "text": [
      "   listing_id                                           comments  \\\n",
      "0       44054  Sev was very helpful.  Sev showed us where to ...   \n",
      "1       44054  We arrived in Beijing very early in the mornin...   \n",
      "2       44054  It is a really massive apartment and really co...   \n",
      "3       44054  Sev was incredibly helpful, showed us around t...   \n",
      "4       44054  The appartment was ideal for our party of 6 ad...   \n",
      "\n",
      "   comments_score  \n",
      "0         0.03378  \n",
      "1         0.00000  \n",
      "2         0.85086  \n",
      "3         0.00264  \n",
      "4         0.00495  \n"
     ]
    }
   ],
   "source": [
    "#计算每一条评论的情感倾向值\n",
    "reviews_detail_df_cc_英文['comments_score'] = reviews_detail_df_cc_英文['comments'].apply(get_sentiment_score)\n",
    "print(reviews_detail_df_cc_英文.head())"
   ]
  },
  {
   "cell_type": "code",
   "execution_count": 13,
   "metadata": {},
   "outputs": [
    {
     "name": "stdout",
     "output_type": "stream",
     "text": [
      "count    32912.000000\n",
      "mean         0.220718\n",
      "std          0.322488\n",
      "min          0.000000\n",
      "25%          0.000790\n",
      "50%          0.028955\n",
      "75%          0.371650\n",
      "max          1.000000\n",
      "Name: comments_score, dtype: float64\n"
     ]
    }
   ],
   "source": [
    "print(reviews_detail_df_cc_英文['comments_score'].describe(include='all'))"
   ]
  },
  {
   "cell_type": "code",
   "execution_count": 14,
   "metadata": {},
   "outputs": [
    {
     "name": "stdout",
     "output_type": "stream",
     "text": [
      "comments_score\n",
      "(-0.002, 0.2]    4407\n",
      "(0.2, 0.4]       1643\n",
      "(0.4, 0.6]        962\n",
      "(0.6, 0.8]        359\n",
      "(0.8, 1.0]        434\n",
      "Name: count, dtype: int64\n"
     ]
    },
    {
     "data": {
      "image/png": "[encoded data removed]",
      "text/plain": [
       "<Figure size 1000x500 with 1 Axes>"
      ]
     },
     "metadata": {},
     "output_type": "display_data"
    }
   ],
   "source": [
    "reviews_l_cs1 = reviews_detail_df_cc_英文.groupby('listing_id')['comments_score'].mean()\n",
    "reviews_l_cs_51 = reviews_l_cs1.value_counts(bins=5).sort_index()\n",
    "print(reviews_l_cs_51)\n",
    "# 绘制柱状图\n",
    "fig = plt.figure(figsize=(10,5))\n",
    "reviews_l_cs_51.plot(kind='bar', alpha=0.6)\n",
    "plt.xticks(rotation=360)\n",
    "plt.xlabel(\"情感倾向值区间\")\n",
    "plt.ylabel(\"房子数量\")\n",
    "plt.show()"
   ]
  },
  {
   "cell_type": "markdown",
   "metadata": {},
   "source": [
    "#\n",
    "\\- The End -"
   ]
  }
 ],
 "metadata": {
  "kernelspec": {
   "display_name": "lab",
   "language": "python",
   "name": "lab"
  },
  "language_info": {
   "codemirror_mode": {
    "name": "ipython",
    "version": 3
   },
   "file_extension": ".py",
   "mimetype": "text/x-python",
   "name": "python",
   "nbconvert_exporter": "python",
   "pygments_lexer": "ipython3",
   "version": "3.10.11"
  }
 },
 "nbformat": 4,
 "nbformat_minor": 2
}
